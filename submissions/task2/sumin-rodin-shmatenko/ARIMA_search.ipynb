{
 "cells": [
  {
   "cell_type": "code",
   "execution_count": 1,
   "metadata": {},
   "outputs": [
    {
     "name": "stderr",
     "output_type": "stream",
     "text": [
      "C:\\Users\\123\\Anaconda3\\lib\\site-packages\\statsmodels\\compat\\pandas.py:56: FutureWarning: The pandas.core.datetools module is deprecated and will be removed in a future version. Please use the pandas.tseries module instead.\n",
      "  from pandas.core import datetools\n"
     ]
    }
   ],
   "source": [
    "# -*- coding: utf-8 -*-\n",
    "from pandas import read_csv, DataFrame\n",
    "import matplotlib.pyplot as plt\n",
    "from statsmodels.tsa.stattools import acf, pacf\n",
    "from statsmodels.tsa.arima_model import ARIMA\n",
    "from statsmodels.tsa.seasonal import seasonal_decompose\n",
    "from itertools import product\n",
    "import warnings\n",
    "from sklearn.metrics import r2_score\n",
    "\n",
    "import pandas as pd\n",
    "import numpy as np\n",
    "from scipy import stats\n",
    "\n",
    "import statsmodels.api as sm\n",
    "\n"
   ]
  },
  {
   "cell_type": "code",
   "execution_count": 2,
   "metadata": {
    "collapsed": true
   },
   "outputs": [],
   "source": [
    "dataset = read_csv('training.csv',\n",
    "                     ',',\n",
    "                     index_col=['Date'],\n",
    "                     parse_dates=['Date'],\n",
    "                     dayfirst=True)"
   ]
  },
  {
   "cell_type": "code",
   "execution_count": null,
   "metadata": {},
   "outputs": [],
   "source": [
    "# Подбор лучших параметров по критерию Акаике\n"
   ]
  },
  {
   "cell_type": "code",
   "execution_count": null,
   "metadata": {
    "collapsed": true
   },
   "outputs": [],
   "source": []
  },
  {
   "cell_type": "code",
   "execution_count": 3,
   "metadata": {
    "scrolled": false
   },
   "outputs": [
    {
     "name": "stdout",
     "output_type": "stream",
     "text": [
      "Computing...\n",
      "(0, 0) 315.985630674\n",
      "Computing...\n",
      "(0, 1) 267.4502825675743\n",
      "Computing...\n",
      "(0, 2) 259.21822259734836\n",
      "Computing...\n",
      "(0, 3) 254.65248708987417\n",
      "Computing...\n",
      "(0, 4) 245.0053510782268\n",
      "Computing...\n",
      "Computing...\n",
      "Computing...\n",
      "Computing...\n",
      "Computing...\n",
      "Computing...\n",
      "Computing...\n",
      "Computing...\n",
      "Computing...\n",
      "Computing...\n",
      "Computing...\n",
      "Computing...\n",
      "Computing...\n",
      "Computing...\n",
      "Computing...\n",
      "Computing...\n",
      "Computing...\n",
      "Computing...\n",
      "Computing...\n",
      "Computing...\n",
      "warning parametrs: (1, 5)\n",
      "warning parametrs: (1, 6)\n",
      "warning parametrs: (1, 7)\n",
      "warning parametrs: (1, 8)\n",
      "Computing...\n",
      "warning parametrs: (1, 10)\n",
      "warning parametrs: (1, 11)\n",
      "warning parametrs: (1, 12)\n",
      "warning parametrs: (1, 13)\n",
      "warning parametrs: (1, 14)\n",
      "warning parametrs: (1, 15)\n",
      "warning parametrs: (1, 16)\n",
      "warning parametrs: (1, 17)\n",
      "warning parametrs: (1, 18)\n",
      "warning parametrs: (1, 19)\n",
      "   parameters         aic\n",
      "4      (0, 4)  245.005351\n",
      "5      (0, 5)  246.427706\n",
      "24     (1, 4)  246.564857\n",
      "6      (0, 6)  248.231267\n",
      "21     (1, 1)  248.733657\n"
     ]
    }
   ],
   "source": [
    "from statsmodels.tsa.statespace.sarimax import SARIMAX\n",
    "\n",
    "qs = range(0, 20)\n",
    "ps = range(0, 2)\n",
    "d = 1\n",
    "\n",
    "parameters = product(ps, qs)\n",
    "parameters_list = list(parameters)\n",
    "\n",
    "results = []\n",
    "best_aic = float(\"inf\")\n",
    "warnings.filterwarnings('ignore')\n",
    "\n",
    "for param in parameters_list:\n",
    "    try:\n",
    "        model = ARIMA(dataset.Value, order=(param[0], d, param[1])).fit(disp = -1)\n",
    "    except:\n",
    "        print ('warning parametrs:', param)\n",
    "        continue\n",
    "    print ('Computing...')\n",
    "    if model.aic < best_aic:\n",
    "        best_model = model\n",
    "        best_aic = model.aic\n",
    "        best_param = param\n",
    "        print (param, model.aic)\n",
    "    results.append([param, model.aic])\n",
    "    \n",
    "\n",
    "warnings.filterwarnings('default')\n",
    "\n",
    "result_table = DataFrame(results)\n",
    "result_table.columns = ['parameters', 'aic']\n",
    "print (result_table.sort_values(by = 'aic', ascending = [True]).head())\n"
   ]
  },
  {
   "cell_type": "code",
   "execution_count": null,
   "metadata": {
    "collapsed": true
   },
   "outputs": [],
   "source": [
    "# Лучшие парметры:\n",
    "# p = 0\n",
    "# q = 4"
   ]
  }
 ],
 "metadata": {
  "kernelspec": {
   "display_name": "Python 3",
   "language": "python",
   "name": "python3"
  },
  "language_info": {
   "codemirror_mode": {
    "name": "ipython",
    "version": 3
   },
   "file_extension": ".py",
   "mimetype": "text/x-python",
   "name": "python",
   "nbconvert_exporter": "python",
   "pygments_lexer": "ipython3",
   "version": "3.6.2"
  }
 },
 "nbformat": 4,
 "nbformat_minor": 2
}
