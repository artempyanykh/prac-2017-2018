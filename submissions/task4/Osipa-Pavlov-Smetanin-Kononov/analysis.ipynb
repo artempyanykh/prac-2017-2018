{
 "cells": [
  {
   "cell_type": "code",
   "execution_count": 118,
   "metadata": {
    "collapsed": true
   },
   "outputs": [],
   "source": [
    "import pandas as pd\n",
    "from datetime import date\n",
    "import numpy as np\n",
    "import matplotlib as mpl\n",
    "import matplotlib.pyplot as plt\n",
    "from pandas import DataFrame\n",
    "import math"
   ]
  },
  {
   "cell_type": "code",
   "execution_count": 109,
   "metadata": {
    "collapsed": true
   },
   "outputs": [],
   "source": [
    "df=pd.read_csv('production-data.csv', sep=',')"
   ]
  },
  {
   "cell_type": "code",
   "execution_count": 115,
   "metadata": {},
   "outputs": [
    {
     "name": "stdout",
     "output_type": "stream",
     "text": [
      "[[ 0.02476849  0.02557856  0.0246802   0.14485299  0.12281036  0.1023247 ]\n",
      " [ 0.08483794  0.07818774  0.0712089   0.0673817   0.06321077  0.0532197 ]]\n"
     ]
    }
   ],
   "source": [
    "comp_def=np.zeros((2,6))\n",
    "comp_prod=np.zeros((2,6))\n",
    "\n",
    "for i in range(df.shape[0]):\n",
    "    if df.iloc[i][5]=='harpy.co':\n",
    "        comp_def[0][df.iloc[i][2]-df.iloc[i][1]-1]+=df.iloc[i][4]\n",
    "        for j in range(6-int(df.iloc[i][1]),-1,-1):\n",
    "            comp_prod[0][j]+=df.iloc[i][3]\n",
    "    if df.iloc[i][5]=='westeros.inc':\n",
    "        comp_def[1][df.iloc[i][2]-df.iloc[i][1]-1]+=df.iloc[i][4]\n",
    "        for j in range(6-int(df.iloc[i][1]),-1,-1):\n",
    "            comp_prod[1][j]+=df.iloc[i][3]\n",
    "for i in range(6):\n",
    "    comp_def[0][i]/=comp_prod[0][i]\n",
    "    comp_def[1][i]/=comp_prod[1][i]\n",
    "print(comp_def)"
   ]
  },
  {
   "cell_type": "code",
   "execution_count": 116,
   "metadata": {},
   "outputs": [
    {
     "data": {
      "image/png": "[encoded data removed]",
      "text/plain": [
       "<matplotlib.figure.Figure at 0x1898ffc6e80>"
      ]
     },
     "metadata": {},
     "output_type": "display_data"
    }
   ],
   "source": [
    "comp_def1=np.zeros((2,6))\n",
    "comp_def1=comp_def.transpose()\n",
    "df2=DataFrame(comp_def1, index=['1', '2','3','4','5','6'],columns=['harpy.co','westeros.inc']);\n",
    "df2.plot(kind='bar');\n",
    "plt.savefig('1.png')\n",
    "plt.show()"
   ]
  },
  {
   "cell_type": "code",
   "execution_count": 126,
   "metadata": {},
   "outputs": [
    {
     "name": "stdout",
     "output_type": "stream",
     "text": [
      "[[ 0.11257012  0.11625182  0.11216888  0.65834128  0.55815989  0.46505475]\n",
      " [ 0.491868    0.45331188  0.41285037  0.39066132  0.36647933  0.30855375]]\n"
     ]
    }
   ],
   "source": [
    "comp_def_norm=comp_def\n",
    "norm0=0\n",
    "norm1=0\n",
    "for i in range(6):\n",
    "    norm0+=pow(comp_def[0][i],2)\n",
    "    norm1+=pow(comp_def[1][i],2)\n",
    "norm0=math.sqrt(norm0)\n",
    "norm1=math.sqrt(norm1)\n",
    "comp_def_norm[0]/=norm0\n",
    "comp_def_norm[1]/=norm1\n",
    "print(comp_def_norm)"
   ]
  },
  {
   "cell_type": "code",
   "execution_count": 127,
   "metadata": {},
   "outputs": [
    {
     "data": {
      "image/png": "[encoded data removed]",
      "text/plain": [
       "<matplotlib.figure.Figure at 0x1898e2ec240>"
      ]
     },
     "metadata": {},
     "output_type": "display_data"
    }
   ],
   "source": [
    "comp_def_norm=comp_def_norm.transpose()\n",
    "df2=DataFrame(comp_def_norm, index=['1', '2','3','4','5','6'],columns=['harpy.co','westeros.inc']);\n",
    "df2.plot(kind='bar');\n",
    "plt.savefig('2.png')\n",
    "plt.show()"
   ]
  },
  {
   "cell_type": "code",
   "execution_count": null,
   "metadata": {
    "collapsed": true
   },
   "outputs": [],
   "source": []
  }
 ],
 "metadata": {
  "kernelspec": {
   "display_name": "Python 3",
   "language": "python",
   "name": "python3"
  },
  "language_info": {
   "codemirror_mode": {
    "name": "ipython",
    "version": 3
   },
   "file_extension": ".py",
   "mimetype": "text/x-python",
   "name": "python",
   "nbconvert_exporter": "python",
   "pygments_lexer": "ipython3",
   "version": "3.6.2"
  }
 },
 "nbformat": 4,
 "nbformat_minor": 2
}
