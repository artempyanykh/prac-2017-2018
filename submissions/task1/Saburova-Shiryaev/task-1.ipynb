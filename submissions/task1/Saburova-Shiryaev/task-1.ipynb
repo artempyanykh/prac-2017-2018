{
 "cells": [
  {
   "cell_type": "code",
   "execution_count": 1,
   "metadata": {
    "collapsed": true
   },
   "outputs": [],
   "source": [
    "import numpy as np\n",
    "import matplotlib.pyplot as pl\n",
    "\n",
    "from scipy.optimize import linprog\n",
    "%matplotlib inline"
   ]
  },
  {
   "cell_type": "code",
   "execution_count": 2,
   "metadata": {
    "collapsed": true
   },
   "outputs": [],
   "source": [
    "def nash_equilibrium(A):\n",
    "    def calc(A, inv_transpose=False):\n",
    "        Z = -A.T if inv_transpose else A\n",
    "        coef = 1 if inv_transpose else -1\n",
    "        res = linprog(coef * np.ones(Z.shape[1]), Z, -coef * np.ones(Z.shape[0]))\n",
    "        return res.x\n",
    "    \n",
    "    Amin = min(0, np.amin(A))\n",
    "    A -= Amin\n",
    "    \n",
    "    minmax = np.min(np.max(A, 0))\n",
    "    maxmin = np.max(np.min(A, 1))\n",
    "    minmax_pos = np.where(A == minmax)\n",
    "    maxmin_pos = np.where(A == maxmin)\n",
    "    \n",
    "    if minmax == maxmin:\n",
    "        p = np.zeros(A.shape[0])\n",
    "        q = np.zeros(A.shape[1])\n",
    "        \n",
    "        pq_pos = (-1, -1);\n",
    "        for i in range(len(maxmin_pos[0])):\n",
    "            for j in range(len(minmax_pos[0])):\n",
    "                if (maxmin_pos[0][i] == minmax_pos[0][j]) and (maxmin_pos[1][i] == minmax_pos[1][j]):\n",
    "                    pq_pos = (maxmin_pos[0][i], maxmin_pos[1][i])\n",
    "        p[pq_pos[0]] = q[pq_pos[1]] = 1\n",
    "        return maxmin + Amin, p, q\n",
    "    else:\n",
    "        p = calc(A, inv_transpose=True)\n",
    "        q = calc(A, inv_transpose=False)       \n",
    "        return (1 / np.sum(p)) + Amin, p / np.sum(p), q / np.sum(q)"
   ]
  },
  {
   "cell_type": "code",
   "execution_count": 3,
   "metadata": {},
   "outputs": [
    {
     "data": {
      "text/plain": [
       "(0, array([ 0.,  1.]), array([ 0.,  1.]))"
      ]
     },
     "execution_count": 3,
     "metadata": {},
     "output_type": "execute_result"
    }
   ],
   "source": [
    "z = np.array([[0, 0], [0, 0]])\n",
    "nash_equilibrium(z)"
   ]
  },
  {
   "cell_type": "code",
   "execution_count": 4,
   "metadata": {
    "collapsed": true
   },
   "outputs": [],
   "source": [
    "def draw_plot(strategy):\n",
    "    pl.xlim([0, strategy.shape[0] + 1])\n",
    "    pl.ylim([0, np.max(strategy) + 1])\n",
    "    for i in range(strategy.shape[0]):\n",
    "        pl.scatter(i + 1, strategy[i])\n",
    "        pl.plot([i + 1, i + 1], [0, strategy[i]])\n",
    "    pl.show()"
   ]
  },
  {
   "cell_type": "code",
   "execution_count": 5,
   "metadata": {
    "collapsed": true
   },
   "outputs": [],
   "source": [
    "def solve_and_visualise(matrix):\n",
    "    v, p, q = nash_equilibrium(matrix)\n",
    "    print (\"Значение игры =\", v)\n",
    "    print (\"p =\", p)\n",
    "    print (\"q =\", q)\n",
    "\n",
    "    draw_plot(p)\n",
    "    draw_plot(q)"
   ]
  },
  {
   "cell_type": "code",
   "execution_count": 6,
   "metadata": {
    "scrolled": true
   },
   "outputs": [
    {
     "name": "stdout",
     "output_type": "stream",
     "text": [
      "Cпектр оптимальной стратегии состоит из одной точки\n",
      "Значение игры = 15\n",
      "p = [ 1.  0.  0.]\n",
      "q = [ 0.  0.  1.  0.]\n"
     ]
    },
    {
     "data": {
      "image/png": "[encoded data removed]",
      "text/plain": [
       "<matplotlib.figure.Figure at 0x7fbf14a44f98>"
      ]
     },
     "metadata": {},
     "output_type": "display_data"
    },
    {
     "data": {
      "image/png": "[encoded data removed]",
      "text/plain": [
       "<matplotlib.figure.Figure at 0x7fbee4f56e48>"
      ]
     },
     "metadata": {},
     "output_type": "display_data"
    }
   ],
   "source": [
    "print (\"Cпектр оптимальной стратегии состоит из одной точки\")\n",
    "test_matrix = np.array([[18, 24, 15, 36], [24, -9, 6, 33], [21, 30, 12, 3]])\n",
    "solve_and_visualise(test_matrix)"
   ]
  },
  {
   "cell_type": "code",
   "execution_count": 7,
   "metadata": {
    "scrolled": true
   },
   "outputs": [
    {
     "name": "stdout",
     "output_type": "stream",
     "text": [
      "Cпектр оптимальной стратегии неполон\n",
      "Значение игры = 27.0\n",
      "p = [ 0.2  0.8  0. ]\n",
      "q = [ 0.6  0.4  0. ]\n"
     ]
    },
    {
     "data": {
      "image/png": "[encoded data removed]",
      "text/plain": [
       "<matplotlib.figure.Figure at 0x7fbee4e9cfd0>"
      ]
     },
     "metadata": {},
     "output_type": "display_data"
    },
    {
     "data": {
      "image/png": "[encoded data removed]",
      "text/plain": [
       "<matplotlib.figure.Figure at 0x7fbee4d6db70>"
      ]
     },
     "metadata": {},
     "output_type": "display_data"
    }
   ],
   "source": [
    "print (\"Cпектр оптимальной стратегии неполон\")\n",
    "test_matrix = np.array([[35, 15, 20], [25, 30, 50], [20, 5, 15]])\n",
    "solve_and_visualise(test_matrix)"
   ]
  },
  {
   "cell_type": "code",
   "execution_count": 8,
   "metadata": {},
   "outputs": [
    {
     "name": "stdout",
     "output_type": "stream",
     "text": [
      "Cпектр оптимальной стратегии полон\n",
      "Значение игры = 13.6666666667\n",
      "p = [ 0.22222222  0.55555556  0.22222222]\n",
      "q = [ 0.55555556  0.22222222  0.22222222]\n"
     ]
    },
    {
     "data": {
      "image/png": "[encoded data removed]",
      "text/plain": [
       "<matplotlib.figure.Figure at 0x7fbf149aa898>"
      ]
     },
     "metadata": {},
     "output_type": "display_data"
    },
    {
     "data": {
      "image/png": "[encoded data removed]",
      "text/plain": [
       "<matplotlib.figure.Figure at 0x7fbee4d36860>"
      ]
     },
     "metadata": {},
     "output_type": "display_data"
    }
   ],
   "source": [
    "print (\"Cпектр оптимальной стратегии полон\")\n",
    "test_matrix = np.array([[15, 15, 9], [15, 9, 15], [9, 24, 15]])\n",
    "solve_and_visualise(test_matrix)"
   ]
  },
  {
   "cell_type": "code",
   "execution_count": null,
   "metadata": {
    "collapsed": true
   },
   "outputs": [],
   "source": []
  },
  {
   "cell_type": "code",
   "execution_count": null,
   "metadata": {
    "collapsed": true
   },
   "outputs": [],
   "source": []
  },
  {
   "cell_type": "code",
   "execution_count": null,
   "metadata": {
    "collapsed": true
   },
   "outputs": [],
   "source": []
  }
 ],
 "metadata": {
  "kernelspec": {
   "display_name": "Python 3",
   "language": "python",
   "name": "python3"
  },
  "language_info": {
   "codemirror_mode": {
    "name": "ipython",
    "version": 3
   },
   "file_extension": ".py",
   "mimetype": "text/x-python",
   "name": "python",
   "nbconvert_exporter": "python",
   "pygments_lexer": "ipython3",
   "version": "3.6.1"
  }
 },
 "nbformat": 4,
 "nbformat_minor": 1
}
