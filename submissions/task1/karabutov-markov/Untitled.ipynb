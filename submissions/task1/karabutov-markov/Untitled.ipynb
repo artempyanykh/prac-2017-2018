{
 "cells": [
  {
   "cell_type": "code",
   "execution_count": 2,
   "metadata": {
    "collapsed": true
   },
   "outputs": [],
   "source": [
    "from scipy.optimize import linprog\n",
    "import numpy as np\n",
    "import matplotlib.pyplot as plt\n",
    "import random\n",
    "import sys\n",
    "\n",
    "\n",
    "# основная функция, производящая расчеты\n",
    "def nash_equilibrium(a, ret = False, show = True):\n",
    "\tmatrix_min = find_matrix_min(a)\n",
    "\ta += matrix_min\t\n",
    "\ta_minus = -1 * a\n",
    "\tres1 = linprog(np.ones(len(a)), a_minus.transpose(), np.linspace(-1, -1, len(a[0])))\n",
    "\tvalue = 1/res1.fun \n",
    "\tstrat1 = value * np.array(res1.x) \n",
    "\tres2 = linprog(np.linspace(-1, -1, len(a[0])), a, np.ones(len(a)))\n",
    "\tstrat2 = value * np.array(res2.x)\n",
    "\tvalue -= matrix_min\t\n",
    "\tres = np.array([strat1, strat2, value])\n",
    "\tif show:\n",
    "\t\tprint(\"value = \", res[2])\n",
    "\t\tprint(\"p = \", res[0])\n",
    "\t\tprint(\"q = \", res[1])\n",
    "\t\tprint_graph(res[0], res[1])\n",
    "\tif ret:\t\n",
    "\t\treturn res\n",
    "\n",
    "# функция находит число, которое нужно прибавить к матрице \n",
    "def find_matrix_min(a):\n",
    "\tmin_val = a.min()\n",
    "\tif min_val > 0:\n",
    "\t\treturn 0\n",
    "\treturn abs(min_val) + 1\n",
    "\n",
    "\n",
    "# функция выводит на экран спектры оптимальных стратегий игроков, и сохраняет их в формате png \n",
    "def print_graph(strat1,strat2):\n",
    "\tx = np.arange(1, len(strat1) + 1, 1)\n",
    "\tplt.figure(1)\n",
    "\tplt.title(\"Strategy of the first player\")\n",
    "\tplt.grid(linestyle='solid')\t\n",
    "\tplt.plot(x, strat1, 'go')\n",
    "\tplt.show()\n",
    "\n",
    "\tx = np.arange(1, len(strat2) + 1, 1)\n",
    "\tplt.figure(2)\n",
    "\tplt.title(\"Strategy of the second player\")\n",
    "\tplt.grid(linestyle='solid')\t\n",
    "\tplt.plot(x, strat2, 'bo')\n",
    "\tplt.show()\n",
    "\n",
    "# генерация рандомной матрицы\n",
    "def random_matrix():\n",
    "\ts = random.randint(1,20)\n",
    "\tc = random.randint(1,20)\n",
    "\tmatrix = np.empty((s, c))\n",
    "\tfor i in range(s):\n",
    "\t\tfor j in range(c):\n",
    "\t\t\tmatrix[i][j] = random.randint(-100, 100)\n",
    "\t\t\tprint(matrix[i][j], \" \",  end=\"\")\n",
    "\t\tprint('\\n')\n",
    "\treturn matrix\n",
    "\n",
    "# чтение матрицы из файла\n",
    "def matrix_from_file(name):\n",
    "\twith open(name, 'r') as ifile:\n",
    "\t\tsize_line = len((ifile.readline()).split())\n",
    "\tmatrix = np.loadtxt(name, usecols=range(size_line))\n",
    "\treturn matrix\t\n",
    "\n"
   ]
  },
  {
   "cell_type": "markdown",
   "metadata": {},
   "source": [
    "Игра из примера:"
   ]
  },
  {
   "cell_type": "code",
   "execution_count": 3,
   "metadata": {
    "scrolled": false
   },
   "outputs": [
    {
     "name": "stdout",
     "output_type": "stream",
     "text": [
      "value =  4.87096774194\n",
      "p =  [ 0.          0.12903226  0.09677419  0.43548387  0.33870968  0.        ]\n",
      "q =  [ 0.          0.          0.69086022  0.14516129  0.14784946  0.01612903]\n"
     ]
    },
    {
     "data": {
      "image/png": "[encoded data removed]",
      "text/plain": [
       "<matplotlib.figure.Figure at 0xaeb5348c>"
      ]
     },
     "metadata": {},
     "output_type": "display_data"
    },
    {
     "data": {
      "image/png": "[encoded data removed]",
      "text/plain": [
       "<matplotlib.figure.Figure at 0xaa680d8c>"
      ]
     },
     "metadata": {},
     "output_type": "display_data"
    }
   ],
   "source": [
    "A = np.array([[4, 0, 6, 2, 2, 1],\n",
    "               [3, 8, 4, 10, 4, 4],\n",
    "               [1, 2, 6, 5, 0, 0],\n",
    "               [6, 6, 4, 4, 10, 3],\n",
    "               [10, 4, 6, 4, 0, 9],\n",
    "               [10, 7, 0, 7, 9, 8]])\n",
    "\n",
    "nash_equilibrium(A)"
   ]
  },
  {
   "cell_type": "markdown",
   "metadata": {},
   "source": [
    "Cпектр оптимальной стратегии состоит из одной точки:"
   ]
  },
  {
   "cell_type": "code",
   "execution_count": 4,
   "metadata": {},
   "outputs": [
    {
     "name": "stdout",
     "output_type": "stream",
     "text": [
      "value =  1.0\n",
      "p =  [ 1.  0.  0.  0.]\n",
      "q =  [ 0.  0.  1.  0.]\n"
     ]
    },
    {
     "data": {
      "image/png": "[encoded data removed]",
      "text/plain": [
       "<matplotlib.figure.Figure at 0xb0c0224c>"
      ]
     },
     "metadata": {},
     "output_type": "display_data"
    },
    {
     "data": {
      "image/png": "[encoded data removed]",
      "text/plain": [
       "<matplotlib.figure.Figure at 0xaa649fcc>"
      ]
     },
     "metadata": {},
     "output_type": "display_data"
    }
   ],
   "source": [
    "A = np.array([[7, 6, 1, 5],\n",
    "              [4, 0 ,0, 2],\n",
    "              [9, 1, -6, 1],\n",
    "              [3, 1, -1, 1]])\n",
    "nash_equilibrium(A)"
   ]
  },
  {
   "cell_type": "markdown",
   "metadata": {},
   "source": [
    "Cпектр оптимальной стратегии неполон:"
   ]
  },
  {
   "cell_type": "code",
   "execution_count": 5,
   "metadata": {
    "scrolled": false
   },
   "outputs": [
    {
     "name": "stdout",
     "output_type": "stream",
     "text": [
      "value =  2.5\n",
      "p =  [ 0.5  0.5  0. ]\n",
      "q =  [ 0.5  0.5  0. ]\n"
     ]
    },
    {
     "data": {
      "image/png": "[encoded data removed]",
      "text/plain": [
       "<matplotlib.figure.Figure at 0xaa67724c>"
      ]
     },
     "metadata": {},
     "output_type": "display_data"
    },
    {
     "data": {
      "image/png": "[encoded data removed]",
      "text/plain": [
       "<matplotlib.figure.Figure at 0xaa643e2c>"
      ]
     },
     "metadata": {},
     "output_type": "display_data"
    }
   ],
   "source": [
    "A = np.array([[1, 4, 3],\n",
    "              [4, 1, 2],\n",
    "              [3, 2, 1]])\n",
    "nash_equilibrium(A)"
   ]
  },
  {
   "cell_type": "markdown",
   "metadata": {},
   "source": [
    "Cпектр оптимальной стратегии полон:"
   ]
  },
  {
   "cell_type": "code",
   "execution_count": 8,
   "metadata": {},
   "outputs": [
    {
     "name": "stdout",
     "output_type": "stream",
     "text": [
      "value =  0.2\n",
      "p =  [ 0.4  0.6]\n",
      "q =  [ 0.4  0.6]\n"
     ]
    },
    {
     "data": {
      "image/png": "[encoded data removed]",
      "text/plain": [
       "<matplotlib.figure.Figure at 0xaa69638c>"
      ]
     },
     "metadata": {},
     "output_type": "display_data"
    },
    {
     "data": {
      "image/png": "[encoded data removed]",
      "text/plain": [
       "<matplotlib.figure.Figure at 0xaa660f0c>"
      ]
     },
     "metadata": {},
     "output_type": "display_data"
    }
   ],
   "source": [
    "A = np.array([[2, -1],\n",
    "              [-1, 1]])\n",
    "nash_equilibrium(A)\n"
   ]
  },
  {
   "cell_type": "markdown",
   "metadata": {},
   "source": [
    "Unit-тесты"
   ]
  },
  {
   "cell_type": "code",
   "execution_count": 11,
   "metadata": {},
   "outputs": [
    {
     "name": "stderr",
     "output_type": "stream",
     "text": [
      "....\n",
      "----------------------------------------------------------------------\n",
      "Ran 4 tests in 0.098s\n",
      "\n",
      "OK\n"
     ]
    },
    {
     "data": {
      "text/plain": [
       "<unittest.runner.TextTestResult run=4 errors=0 failures=0>"
      ]
     },
     "execution_count": 11,
     "metadata": {},
     "output_type": "execute_result"
    }
   ],
   "source": [
    "import unittest\n",
    "from unittest import *\n",
    "import numpy as np\n",
    "\n",
    "class TestFunc(unittest.TestCase):\n",
    "\tdef setUp(self):\n",
    "\t\tpass\n",
    "\tdef tearDown(self):\n",
    "\t\tpass\n",
    "\t\n",
    "#тест из примера\n",
    "\tdef test_number_1(self):\n",
    "\n",
    "\t\ta = np.array([[4, 0, 6, 2, 2, 1],\n",
    "\t\t\t\t\t [3, 8, 4, 10, 4, 4],\n",
    "\t\t\t\t\t [1, 2, 6, 5, 0, 0],\n",
    "\t\t\t\t\t [6, 6, 4, 4, 10, 3],\n",
    "\t\t\t\t\t [10, 4, 6, 4, 0, 9],\n",
    "\t\t\t\t\t [10, 7, 0, 7, 9, 8]])\n",
    "\t\tres1 = np.array([[0, 0.12903226, 0.09677419, 0.43548387, 0.33870968, 0],\n",
    "\t\t                [0, 0, 0.69086022, 0.14516129, 0.14784946, 0.01612903],\n",
    "\t\t\t             4.87096774194])\n",
    "\t\tres2 = nash_equilibrium(a, True, False)\n",
    "\t\t\n",
    "\t\tself.assertAlmostEqual(res1[2], res2[2], 4)\n",
    "\t\tfor i in range(len(res1[0])): \t\t\n",
    "\t\t\tself.assertAlmostEqual(res1[0][i], res2[0][i], 4)\n",
    "\t\tfor i in range(len(res1[1])):\t\t\t\n",
    "\t\t\tself.assertAlmostEqual(res1[1][i], res2[1][i], 4)\n",
    "\n",
    "#тест для случая, когда спектр оптимальной стратегии состоит из одной точки\t\t\n",
    "\tdef test_number_2(self):\n",
    "\t\ta = np.array([[7, 6, 1, 5],\n",
    "\t\t\t\t\t [4, 0, 0, 2],\n",
    "\t\t\t\t\t [9, 1, -6, 1],\n",
    "\t\t\t\t\t [3, 1, -1, 1]])\n",
    "\t\tres1 = np.array([[1, 0, 0, 0], [0, 0, 1, 0], 1])\n",
    "\t\tres2 = nash_equilibrium(a, True, False)\n",
    "\t\t\n",
    "\t\tself.assertAlmostEqual(res1[2], res2[2], 4)\t\t\n",
    "\t\tfor i in range(len(res1[0])): \t\t\n",
    "\t\t\tself.assertAlmostEqual(res1[0][i], res2[0][i], 4)\n",
    "\t\tfor i in range(len(res1[1])):\t\t\t\n",
    "\t\t\tself.assertAlmostEqual(res1[1][i], res2[1][i], 4)\n",
    "\n",
    "#тест для случая, когда спектр оптимальной стратегии неполон\t\n",
    "\tdef test_number_3(self):\n",
    "\t\ta  = np.array([[1, 4, 3],\n",
    "\t\t\t\t\t  [4, 1, 2],\n",
    "\t\t\t\t\t  [3, 2, 1]])\n",
    "\t\tres1 = np.array([[0.5, 0.5, 0],\n",
    "\t\t\t\t\t\t [0.5, 0.5, 0],\n",
    "\t\t\t\t\t\t  2.5])\n",
    "\t\tres2 = nash_equilibrium(a, True, False)\n",
    "\n",
    "\t\tself.assertAlmostEqual(res1[2], res2[2], 4)\t\t\n",
    "\t\tfor i in range(len(res1[0])): \t\t\n",
    "\t\t\tself.assertAlmostEqual(res1[0][i], res2[0][i], 4)\n",
    "\t\tfor i in range(len(res1[1])):\t\t\t\n",
    "\t\t\tself.assertAlmostEqual(res1[1][i], res2[1][i], 4)\n",
    "\n",
    "#тест для случая, когда спектр оптимальной стратегии полон\n",
    "\tdef test_number_4(self):\n",
    "\t\ta = np.array([[2, -1],\n",
    "\t\t\t\t\t [-1, 1]])\n",
    "\t\tres1 = np.array([[0.4, 0.6], [0.4, 0.6], 0.2])\n",
    "\t\tres2 = nash_equilibrium(a, True, False)\n",
    "\n",
    "\t\tfor i in range(len(res1[0])): \t\t\n",
    "\t\t\tself.assertAlmostEqual(res1[0][i], res2[0][i], 4)\n",
    "\t\tfor i in range(len(res1[1])):\t\t\t\n",
    "\t\t\tself.assertAlmostEqual(res1[1][i], res2[1][i], 4)\n",
    "\n",
    "\n",
    "suite = unittest.TestLoader().loadTestsFromTestCase(TestFunc)\n",
    "unittest.TextTestRunner().run(suite)"
   ]
  },
  {
   "cell_type": "code",
   "execution_count": null,
   "metadata": {
    "collapsed": true
   },
   "outputs": [],
   "source": []
  },
  {
   "cell_type": "code",
   "execution_count": null,
   "metadata": {
    "collapsed": true
   },
   "outputs": [],
   "source": []
  }
 ],
 "metadata": {
  "kernelspec": {
   "display_name": "Python 3",
   "language": "python",
   "name": "python3"
  },
  "language_info": {
   "codemirror_mode": {
    "name": "ipython",
    "version": 3
   },
   "file_extension": ".py",
   "mimetype": "text/x-python",
   "name": "python",
   "nbconvert_exporter": "python",
   "pygments_lexer": "ipython3",
   "version": "3.6.3"
  }
 },
 "nbformat": 4,
 "nbformat_minor": 2
}
