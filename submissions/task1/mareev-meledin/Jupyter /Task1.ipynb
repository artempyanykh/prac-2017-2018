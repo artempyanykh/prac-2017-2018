{
 "cells": [
  {
   "cell_type": "markdown",
   "metadata": {},
   "source": [
    "**Задание 1**\n",
    "========\n",
    "**Пункт 1**\n",
    "-----------\n",
    "*(50 баллов)* Необходимо написать функция nash_equilibrium(a), которая принимает матрицу выигрыша и возвращает значение игры и оптимальные стратегии первого и второго игроков.\n"
   ]
  },
  {
   "cell_type": "code",
   "execution_count": 119,
   "metadata": {},
   "outputs": [],
   "source": [
    "import numpy as np\n",
    "from scipy.optimize import linprog\n",
    "import matplotlib.pyplot as plt\n",
    "\n",
    "def nash_equilibrium(in_matrix):\n",
    "    a = np.matrix(in_matrix)\n",
    "    n = len(a) #количесво строк\n",
    "    m = len(a.T) #количесвто столбцов\n",
    "\n",
    "    row_min = np.min(a, 1) \n",
    "    col_max = np.max(a.T, 1)\n",
    "\n",
    "    # Проверка игры на равновесие Нэша.\n",
    "    for i in range(0, n):\n",
    "        for j in range(0, m):\n",
    "            if (a[i, j] == row_min[i] and a[i, j] == col_max[j]):\n",
    "                p = np.zeros(n)\n",
    "                q = np.zeros(m)\n",
    "                p[i] = 1\n",
    "                q[j] = 1\n",
    "                return {'f': a[i, j], 'p': p.tolist(), 'q': q.tolist()}\n",
    "\n",
    "    # Делаем так, чтобы минимальный элемент матрицы был неотрицательным.\n",
    "    sub = min(0, np.min(a))\n",
    "    a -= sub\n",
    "    \n",
    "    # Формулировка ЗЛП.\n",
    "    c = np.ones(n)\n",
    "    a_ub = np.vstack((-a.T, -np.identity(n)))\n",
    "    b_ub = np.hstack((np.full(m, -1), np.zeros(n)))\n",
    "\n",
    "    # Поиск спектра стратегии первого игрока и значения игры.\n",
    "    res = linprog(c, a_ub, b_ub)\n",
    "    f = 1 / res.fun + sub\n",
    "    p = res.x * (1/res.fun)\n",
    "    \n",
    "\n",
    "    # Формулировка ЗЛП.\n",
    "    c = np.full(m, -1)\n",
    "    a_ub = np.vstack((a, -np.identity(m)))\n",
    "    b_ub = np.hstack((np.ones(n), np.zeros(m)))\n",
    "\n",
    "    # Поиск спектра стратегии второго игрока.\n",
    "    res = linprog(c, a_ub, b_ub)\n",
    "    q = res.x * -1/res.fun\n",
    "        \n",
    "    return {'f': f, 'p': p.tolist(), 'q': q.tolist()}"
   ]
  },
  {
   "cell_type": "markdown",
   "metadata": {},
   "source": [
    "**Пункт 2**\n",
    "----------\n",
    "*(50 баллов)* Проиллюстрировать работу вашего кода путем решения нескольких игр и визуализации спектров оптимальных стратегий игроков в Jupyter. В частности, нужно привести игры, в которых:\n",
    "\n",
    "\t● Cпектр оптимальной стратегии состоит из одной точки (т.е. существует равновесие Нэша в чистых стратегиях)\n",
    "\t● Cпектр оптимальной стратегии неполон (т.е. некоторые чистые стратегии не используются)\n",
    "\t● Cпектр оптимальной стратегии полон\n",
    "\n"
   ]
  },
  {
   "cell_type": "code",
   "execution_count": 120,
   "metadata": {
    "collapsed": true
   },
   "outputs": [],
   "source": [
    "from fractions import Fraction\n",
    "\n",
    " # Функция позволяющая \"красиво\" выводить стратегии игроков\n",
    "def print_str(strategy):\n",
    "    print('| ', end='')\n",
    "    for i in range(len(strategy)):\n",
    "        print(Fraction(strategy[i]).limit_denominator(), '| ', end='')\n",
    "     \n",
    " # Функция рисующая графики стратегий игроков и выводящая ответ\n",
    "def res_show(f,p,q):\n",
    "    \n",
    "    if (max(p)//1)==1 or (max(q)//1)==1:\n",
    "        print('Nash equilibrium')\n",
    "    elif min(p)==0.0 or min(q)==0.0:\n",
    "        print('Spectrum is not full')\n",
    "    else:\n",
    "        print('Spectrum is full')\n",
    "    \n",
    "    print('f: ', f)\n",
    "    print('p: ', end='')\n",
    "    print_str(x['p'])\n",
    "    print('')\n",
    "    print('q: ', end='')\n",
    "    print_str(x['q'])\n",
    "    \n",
    "    a1=[]\n",
    "    for i in range(len(p)):\n",
    "        a1.append(i+1)\n",
    "#    fig = plt.figure()\n",
    "    plt.scatter(a1 ,p ,color='r' ,s=90)\n",
    "    plt.title('1-st player stratagy')\n",
    "    plt.xlabel('Stratagies')\n",
    "    plt.ylabel('Propabilities')\n",
    "    plt.xlim(0,len(p)+1)\n",
    "    plt.ylim(0,np.max(p)+1)\n",
    "    plt.grid()\n",
    "    plt.show()\n",
    "    \n",
    "    a2=[]\n",
    "    for i in range(len(q)):\n",
    "        a2.append(i+1)\n",
    "#    fig = plt.figure()\n",
    "    plt.scatter(a2,q,color='g' ,s=90)\n",
    "    plt.title('2-nd player stratagy')\n",
    "    plt.xlabel('Stratagies')\n",
    "    plt.ylabel('Propabilities')\n",
    "    plt.xlim(0,len(q)+1)\n",
    "    plt.ylim(0,np.max(q)+1)\n",
    "    plt.grid()\n",
    "    plt.show()\n",
    "    "
   ]
  },
  {
   "cell_type": "markdown",
   "metadata": {},
   "source": [
    "*Тест 1*\n",
    "--------\n",
    "Cпектр оптимальной стратегии состоит из одной точки (т.е. существует равновесие Нэша в чистых стратегиях)"
   ]
  },
  {
   "cell_type": "code",
   "execution_count": 121,
   "metadata": {},
   "outputs": [
    {
     "name": "stdout",
     "output_type": "stream",
     "text": [
      "Nash equilibrium\n",
      "f:  1\n",
      "p: | 1 | 0 | \n",
      "q: | 0 | 1 | "
     ]
    },
    {
     "data": {
      "image/png": "[encoded data removed]",
      "text/plain": [
       "<matplotlib.figure.Figure at 0x150ebbc710>"
      ]
     },
     "metadata": {},
     "output_type": "display_data"
    },
    {
     "data": {
      "image/png": "[encoded data removed]",
      "text/plain": [
       "<matplotlib.figure.Figure at 0x150e8012e8>"
      ]
     },
     "metadata": {},
     "output_type": "display_data"
    }
   ],
   "source": [
    "x = nash_equilibrium([[1, 1], [3, 1]])\n",
    "res_show(x['f'],x['p'],x['q']) #эта функция визуализирует результаты, полученные при выполнеи nash_equilibrium"
   ]
  },
  {
   "cell_type": "markdown",
   "metadata": {},
   "source": [
    "*Тест 2*\n",
    "--------\n",
    "Cпектр оптимальной стратегии полон"
   ]
  },
  {
   "cell_type": "code",
   "execution_count": 122,
   "metadata": {},
   "outputs": [
    {
     "name": "stdout",
     "output_type": "stream",
     "text": [
      "Spectrum is full\n",
      "f:  2.5\n",
      "p: | 1/4 | 3/4 | \n",
      "q: | 1/2 | 1/2 | "
     ]
    },
    {
     "data": {
      "image/png": "[encoded data removed]",
      "text/plain": [
       "<matplotlib.figure.Figure at 0x150e7dca58>"
      ]
     },
     "metadata": {},
     "output_type": "display_data"
    },
    {
     "data": {
      "image/png": "[encoded data removed]",
      "text/plain": [
       "<matplotlib.figure.Figure at 0x150e750f60>"
      ]
     },
     "metadata": {},
     "output_type": "display_data"
    }
   ],
   "source": [
    "x = nash_equilibrium([[1, 4], [3, 2]])\n",
    "res_show(x['f'],x['p'],x['q'])"
   ]
  },
  {
   "cell_type": "markdown",
   "metadata": {},
   "source": [
    "*Тест 3*\n",
    "--------\n",
    "Cпектр оптимальной стратегии неполон (т.е. некоторые чистые стратегии не используются)"
   ]
  },
  {
   "cell_type": "code",
   "execution_count": 123,
   "metadata": {},
   "outputs": [
    {
     "name": "stdout",
     "output_type": "stream",
     "text": [
      "Spectrum is not full\n",
      "f:  -0.0169491525424\n",
      "p: | 43/118 | 0 | 28/59 | 19/118 | \n",
      "q: | 19/59 | 55/118 | 25/118 | "
     ]
    },
    {
     "data": {
      "image/png": "[encoded data removed]",
      "text/plain": [
       "<matplotlib.figure.Figure at 0x150ee7e8d0>"
      ]
     },
     "metadata": {},
     "output_type": "display_data"
    },
    {
     "data": {
      "image/png": "[encoded data removed]",
      "text/plain": [
       "<matplotlib.figure.Figure at 0x150e7a14a8>"
      ]
     },
     "metadata": {},
     "output_type": "display_data"
    }
   ],
   "source": [
    "x=nash_equilibrium([[-4,0,6], [3,-8,-4], [1,2,-6], [6,-6,4]])\n",
    "res_show(x['f'],x['p'],x['q'])"
   ]
  },
  {
   "cell_type": "markdown",
   "metadata": {},
   "source": [
    "Пункт 4\n",
    "====\n",
    "*(20 баллов)* Написать unit-тесты для функции \" nash_equilibrium \"."
   ]
  },
  {
   "cell_type": "code",
   "execution_count": 124,
   "metadata": {},
   "outputs": [
    {
     "name": "stderr",
     "output_type": "stream",
     "text": [
      "...\n",
      "----------------------------------------------------------------------\n",
      "Ran 3 tests in 0.012s\n",
      "\n",
      "OK\n"
     ]
    },
    {
     "data": {
      "text/plain": [
       "<unittest.runner.TextTestResult run=3 errors=0 failures=0>"
      ]
     },
     "execution_count": 124,
     "metadata": {},
     "output_type": "execute_result"
    }
   ],
   "source": [
    "import unittest #библиотека для тестирования\n",
    "\n",
    "#будем использовать класс для универсального тестирования\n",
    "class TestNashEquilibrium(unittest.TestCase):\n",
    "    def runTest(self): #подготовка прогона тестов\n",
    "        pass\n",
    "    \n",
    "    #тест для равновесия по Нэшу\n",
    "    def test_1(self): \n",
    "        x = nash_equilibrium([[1, 1], [3, 1]])\n",
    "      #  self.assertAlmostEqual(v, 1)\n",
    "    \n",
    "        #сверяем списки те что пролучены и те что должны быть\n",
    "        np.testing.assert_array_almost_equal([1, 0], x['p'])\n",
    "        np.testing.assert_array_almost_equal([0, 1], x['q'])\n",
    "        \n",
    "    #тест для полного спектра    \n",
    "    def test_2(self):\n",
    "        x = nash_equilibrium([[1, 4], [3, 2]])\n",
    "        np.testing.assert_array_almost_equal([0.25, 0.75], x['p'])\n",
    "        np.testing.assert_array_almost_equal([0.5, 0.5], x['q'])\n",
    "    \n",
    "    #тест для неполного спектра\n",
    "    def test_3(self):\n",
    "        x = nash_equilibrium([[4,0,6], [3,8,4], [1,2,6], [6,6,4]])\n",
    "        np.testing.assert_array_almost_equal([0.125, 0.1875, 0.6875], x['q'])\n",
    "        np.testing.assert_array_almost_equal([0.3125, 0.25, 0.0, 0.4375], x['p']) \n",
    "\n",
    "        \n",
    "tests = TestNashEquilibrium() # создаем объект класса\n",
    "# подгружаем все тестовые случаи в suite\n",
    "suite = unittest.TestLoader().loadTestsFromModule(tests) \n",
    "# запускаем\n",
    "unittest.TextTestRunner().run(suite)"
   ]
  },
  {
   "cell_type": "code",
   "execution_count": null,
   "metadata": {
    "collapsed": true
   },
   "outputs": [],
   "source": []
  }
 ],
 "metadata": {
  "kernelspec": {
   "display_name": "Python 3",
   "language": "python",
   "name": "python3"
  },
  "language_info": {
   "codemirror_mode": {
    "name": "ipython",
    "version": 3
   },
   "file_extension": ".py",
   "mimetype": "text/x-python",
   "name": "python",
   "nbconvert_exporter": "python",
   "pygments_lexer": "ipython3",
   "version": "3.6.2"
  }
 },
 "nbformat": 4,
 "nbformat_minor": 2
}
